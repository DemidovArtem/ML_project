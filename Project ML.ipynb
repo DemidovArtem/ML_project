{
 "cells": [
  {
   "cell_type": "markdown",
   "metadata": {},
   "source": [
    "# Machine Learning"
   ]
  },
  {
   "cell_type": "code",
   "execution_count": 135,
   "metadata": {
    "ExecuteTime": {
     "end_time": "2023-05-03T17:18:54.618550755Z",
     "start_time": "2023-05-03T17:18:54.566842446Z"
    }
   },
   "outputs": [],
   "source": [
    "import matplotlib.pyplot as plt\n",
    "import pandas as pd\n",
    "\n",
    "train = pd.read_csv('MLUnige2023_subscriptions_train.csv')\n",
    "test = pd.read_csv('MLUnige2023_subscriptions_test.csv')"
   ]
  },
  {
   "cell_type": "code",
   "execution_count": 136,
   "metadata": {
    "ExecuteTime": {
     "end_time": "2023-05-03T17:18:55.118406704Z",
     "start_time": "2023-05-03T17:18:55.066969748Z"
    }
   },
   "outputs": [
    {
     "data": {
      "text/html": [
       "<div>\n",
       "<style scoped>\n",
       "    .dataframe tbody tr th:only-of-type {\n",
       "        vertical-align: middle;\n",
       "    }\n",
       "\n",
       "    .dataframe tbody tr th {\n",
       "        vertical-align: top;\n",
       "    }\n",
       "\n",
       "    .dataframe thead th {\n",
       "        text-align: right;\n",
       "    }\n",
       "</style>\n",
       "<table border=\"1\" class=\"dataframe\">\n",
       "  <thead>\n",
       "    <tr style=\"text-align: right;\">\n",
       "      <th></th>\n",
       "      <th>Id</th>\n",
       "      <th>age</th>\n",
       "      <th>job</th>\n",
       "      <th>marital</th>\n",
       "      <th>education</th>\n",
       "      <th>device</th>\n",
       "      <th>day</th>\n",
       "      <th>month</th>\n",
       "      <th>time_spent</th>\n",
       "      <th>banner_views</th>\n",
       "      <th>banner_views_old</th>\n",
       "      <th>days_elapsed_old</th>\n",
       "      <th>outcome_old</th>\n",
       "      <th>X1</th>\n",
       "      <th>X2</th>\n",
       "      <th>X3</th>\n",
       "      <th>X4</th>\n",
       "      <th>subscription</th>\n",
       "    </tr>\n",
       "  </thead>\n",
       "  <tbody>\n",
       "    <tr>\n",
       "      <th>0</th>\n",
       "      <td>0</td>\n",
       "      <td>28</td>\n",
       "      <td>freelance</td>\n",
       "      <td>married</td>\n",
       "      <td>grad_school</td>\n",
       "      <td>smartphone</td>\n",
       "      <td>4</td>\n",
       "      <td>2</td>\n",
       "      <td>26.80</td>\n",
       "      <td>3</td>\n",
       "      <td>4</td>\n",
       "      <td>196</td>\n",
       "      <td>failure</td>\n",
       "      <td>0</td>\n",
       "      <td>0</td>\n",
       "      <td>1</td>\n",
       "      <td>0.072803</td>\n",
       "      <td>1</td>\n",
       "    </tr>\n",
       "    <tr>\n",
       "      <th>1</th>\n",
       "      <td>1</td>\n",
       "      <td>48</td>\n",
       "      <td>industrial_worker</td>\n",
       "      <td>married</td>\n",
       "      <td>university</td>\n",
       "      <td>smartphone</td>\n",
       "      <td>30</td>\n",
       "      <td>4</td>\n",
       "      <td>13.05</td>\n",
       "      <td>1</td>\n",
       "      <td>1</td>\n",
       "      <td>79</td>\n",
       "      <td>success</td>\n",
       "      <td>0</td>\n",
       "      <td>0</td>\n",
       "      <td>0</td>\n",
       "      <td>0.075454</td>\n",
       "      <td>1</td>\n",
       "    </tr>\n",
       "    <tr>\n",
       "      <th>2</th>\n",
       "      <td>2</td>\n",
       "      <td>27</td>\n",
       "      <td>teacher</td>\n",
       "      <td>married</td>\n",
       "      <td>university</td>\n",
       "      <td>smartphone</td>\n",
       "      <td>14</td>\n",
       "      <td>7</td>\n",
       "      <td>8.10</td>\n",
       "      <td>3</td>\n",
       "      <td>0</td>\n",
       "      <td>-1</td>\n",
       "      <td>na</td>\n",
       "      <td>0</td>\n",
       "      <td>1</td>\n",
       "      <td>1</td>\n",
       "      <td>0.068110</td>\n",
       "      <td>0</td>\n",
       "    </tr>\n",
       "    <tr>\n",
       "      <th>3</th>\n",
       "      <td>3</td>\n",
       "      <td>44</td>\n",
       "      <td>unemployed</td>\n",
       "      <td>divorced</td>\n",
       "      <td>university</td>\n",
       "      <td>smartphone</td>\n",
       "      <td>13</td>\n",
       "      <td>5</td>\n",
       "      <td>7.10</td>\n",
       "      <td>2</td>\n",
       "      <td>1</td>\n",
       "      <td>369</td>\n",
       "      <td>other</td>\n",
       "      <td>0</td>\n",
       "      <td>0</td>\n",
       "      <td>1</td>\n",
       "      <td>0.091942</td>\n",
       "      <td>0</td>\n",
       "    </tr>\n",
       "    <tr>\n",
       "      <th>4</th>\n",
       "      <td>4</td>\n",
       "      <td>29</td>\n",
       "      <td>manager</td>\n",
       "      <td>single</td>\n",
       "      <td>grad_school</td>\n",
       "      <td>smartphone</td>\n",
       "      <td>26</td>\n",
       "      <td>4</td>\n",
       "      <td>15.90</td>\n",
       "      <td>2</td>\n",
       "      <td>2</td>\n",
       "      <td>143</td>\n",
       "      <td>success</td>\n",
       "      <td>0</td>\n",
       "      <td>0</td>\n",
       "      <td>0</td>\n",
       "      <td>0.085922</td>\n",
       "      <td>1</td>\n",
       "    </tr>\n",
       "  </tbody>\n",
       "</table>\n",
       "</div>"
      ],
      "text/plain": [
       "   Id  age                job   marital    education      device  day  month  \\\n",
       "0   0   28          freelance   married  grad_school  smartphone    4      2   \n",
       "1   1   48  industrial_worker   married   university  smartphone   30      4   \n",
       "2   2   27            teacher   married   university  smartphone   14      7   \n",
       "3   3   44         unemployed  divorced   university  smartphone   13      5   \n",
       "4   4   29            manager    single  grad_school  smartphone   26      4   \n",
       "\n",
       "   time_spent  banner_views  banner_views_old  days_elapsed_old outcome_old  \\\n",
       "0       26.80             3                 4               196     failure   \n",
       "1       13.05             1                 1                79     success   \n",
       "2        8.10             3                 0                -1          na   \n",
       "3        7.10             2                 1               369       other   \n",
       "4       15.90             2                 2               143     success   \n",
       "\n",
       "   X1  X2  X3        X4  subscription  \n",
       "0   0   0   1  0.072803             1  \n",
       "1   0   0   0  0.075454             1  \n",
       "2   0   1   1  0.068110             0  \n",
       "3   0   0   1  0.091942             0  \n",
       "4   0   0   0  0.085922             1  "
      ]
     },
     "execution_count": 136,
     "metadata": {},
     "output_type": "execute_result"
    }
   ],
   "source": [
    "train.head()"
   ]
  },
  {
   "cell_type": "code",
   "execution_count": 137,
   "metadata": {},
   "outputs": [
    {
     "data": {
      "text/html": [
       "<div>\n",
       "<style scoped>\n",
       "    .dataframe tbody tr th:only-of-type {\n",
       "        vertical-align: middle;\n",
       "    }\n",
       "\n",
       "    .dataframe tbody tr th {\n",
       "        vertical-align: top;\n",
       "    }\n",
       "\n",
       "    .dataframe thead th {\n",
       "        text-align: right;\n",
       "    }\n",
       "</style>\n",
       "<table border=\"1\" class=\"dataframe\">\n",
       "  <thead>\n",
       "    <tr style=\"text-align: right;\">\n",
       "      <th></th>\n",
       "      <th>Id</th>\n",
       "      <th>age</th>\n",
       "      <th>day</th>\n",
       "      <th>month</th>\n",
       "      <th>time_spent</th>\n",
       "      <th>banner_views</th>\n",
       "      <th>banner_views_old</th>\n",
       "      <th>days_elapsed_old</th>\n",
       "      <th>X1</th>\n",
       "      <th>X2</th>\n",
       "      <th>X3</th>\n",
       "      <th>X4</th>\n",
       "      <th>subscription</th>\n",
       "    </tr>\n",
       "  </thead>\n",
       "  <tbody>\n",
       "    <tr>\n",
       "      <th>count</th>\n",
       "      <td>8952.000000</td>\n",
       "      <td>8952.000000</td>\n",
       "      <td>8952.000000</td>\n",
       "      <td>8952.000000</td>\n",
       "      <td>8952.000000</td>\n",
       "      <td>8952.000000</td>\n",
       "      <td>8952.000000</td>\n",
       "      <td>8952.000000</td>\n",
       "      <td>8952.000000</td>\n",
       "      <td>8952.000000</td>\n",
       "      <td>8952.000000</td>\n",
       "      <td>8952.000000</td>\n",
       "      <td>8952.000000</td>\n",
       "    </tr>\n",
       "    <tr>\n",
       "      <th>mean</th>\n",
       "      <td>4475.500000</td>\n",
       "      <td>41.201743</td>\n",
       "      <td>15.663762</td>\n",
       "      <td>6.207328</td>\n",
       "      <td>17.130306</td>\n",
       "      <td>2.540550</td>\n",
       "      <td>0.759160</td>\n",
       "      <td>49.403262</td>\n",
       "      <td>0.141086</td>\n",
       "      <td>0.013963</td>\n",
       "      <td>0.496984</td>\n",
       "      <td>0.086603</td>\n",
       "      <td>0.416443</td>\n",
       "    </tr>\n",
       "    <tr>\n",
       "      <th>std</th>\n",
       "      <td>2584.364138</td>\n",
       "      <td>11.638321</td>\n",
       "      <td>8.379622</td>\n",
       "      <td>2.509444</td>\n",
       "      <td>16.902741</td>\n",
       "      <td>2.824065</td>\n",
       "      <td>2.099277</td>\n",
       "      <td>107.365840</td>\n",
       "      <td>0.348129</td>\n",
       "      <td>0.117345</td>\n",
       "      <td>0.500019</td>\n",
       "      <td>0.030253</td>\n",
       "      <td>0.492996</td>\n",
       "    </tr>\n",
       "    <tr>\n",
       "      <th>min</th>\n",
       "      <td>0.000000</td>\n",
       "      <td>18.000000</td>\n",
       "      <td>1.000000</td>\n",
       "      <td>1.000000</td>\n",
       "      <td>0.000000</td>\n",
       "      <td>1.000000</td>\n",
       "      <td>0.000000</td>\n",
       "      <td>-1.000000</td>\n",
       "      <td>0.000000</td>\n",
       "      <td>0.000000</td>\n",
       "      <td>0.000000</td>\n",
       "      <td>0.000000</td>\n",
       "      <td>0.000000</td>\n",
       "    </tr>\n",
       "    <tr>\n",
       "      <th>25%</th>\n",
       "      <td>2237.750000</td>\n",
       "      <td>32.000000</td>\n",
       "      <td>8.000000</td>\n",
       "      <td>5.000000</td>\n",
       "      <td>6.100000</td>\n",
       "      <td>1.000000</td>\n",
       "      <td>0.000000</td>\n",
       "      <td>-1.000000</td>\n",
       "      <td>0.000000</td>\n",
       "      <td>0.000000</td>\n",
       "      <td>0.000000</td>\n",
       "      <td>0.073891</td>\n",
       "      <td>0.000000</td>\n",
       "    </tr>\n",
       "    <tr>\n",
       "      <th>50%</th>\n",
       "      <td>4475.500000</td>\n",
       "      <td>39.000000</td>\n",
       "      <td>16.000000</td>\n",
       "      <td>6.000000</td>\n",
       "      <td>11.450000</td>\n",
       "      <td>2.000000</td>\n",
       "      <td>0.000000</td>\n",
       "      <td>-1.000000</td>\n",
       "      <td>0.000000</td>\n",
       "      <td>0.000000</td>\n",
       "      <td>0.000000</td>\n",
       "      <td>0.077661</td>\n",
       "      <td>0.000000</td>\n",
       "    </tr>\n",
       "    <tr>\n",
       "      <th>75%</th>\n",
       "      <td>6713.250000</td>\n",
       "      <td>49.000000</td>\n",
       "      <td>21.000000</td>\n",
       "      <td>8.000000</td>\n",
       "      <td>22.500000</td>\n",
       "      <td>3.000000</td>\n",
       "      <td>0.000000</td>\n",
       "      <td>-1.000000</td>\n",
       "      <td>0.000000</td>\n",
       "      <td>0.000000</td>\n",
       "      <td>1.000000</td>\n",
       "      <td>0.087768</td>\n",
       "      <td>1.000000</td>\n",
       "    </tr>\n",
       "    <tr>\n",
       "      <th>max</th>\n",
       "      <td>8951.000000</td>\n",
       "      <td>95.000000</td>\n",
       "      <td>31.000000</td>\n",
       "      <td>12.000000</td>\n",
       "      <td>245.400000</td>\n",
       "      <td>63.000000</td>\n",
       "      <td>58.000000</td>\n",
       "      <td>854.000000</td>\n",
       "      <td>1.000000</td>\n",
       "      <td>1.000000</td>\n",
       "      <td>1.000000</td>\n",
       "      <td>0.810043</td>\n",
       "      <td>1.000000</td>\n",
       "    </tr>\n",
       "  </tbody>\n",
       "</table>\n",
       "</div>"
      ],
      "text/plain": [
       "                Id          age          day        month   time_spent  \\\n",
       "count  8952.000000  8952.000000  8952.000000  8952.000000  8952.000000   \n",
       "mean   4475.500000    41.201743    15.663762     6.207328    17.130306   \n",
       "std    2584.364138    11.638321     8.379622     2.509444    16.902741   \n",
       "min       0.000000    18.000000     1.000000     1.000000     0.000000   \n",
       "25%    2237.750000    32.000000     8.000000     5.000000     6.100000   \n",
       "50%    4475.500000    39.000000    16.000000     6.000000    11.450000   \n",
       "75%    6713.250000    49.000000    21.000000     8.000000    22.500000   \n",
       "max    8951.000000    95.000000    31.000000    12.000000   245.400000   \n",
       "\n",
       "       banner_views  banner_views_old  days_elapsed_old           X1  \\\n",
       "count   8952.000000       8952.000000       8952.000000  8952.000000   \n",
       "mean       2.540550          0.759160         49.403262     0.141086   \n",
       "std        2.824065          2.099277        107.365840     0.348129   \n",
       "min        1.000000          0.000000         -1.000000     0.000000   \n",
       "25%        1.000000          0.000000         -1.000000     0.000000   \n",
       "50%        2.000000          0.000000         -1.000000     0.000000   \n",
       "75%        3.000000          0.000000         -1.000000     0.000000   \n",
       "max       63.000000         58.000000        854.000000     1.000000   \n",
       "\n",
       "                X2           X3           X4  subscription  \n",
       "count  8952.000000  8952.000000  8952.000000   8952.000000  \n",
       "mean      0.013963     0.496984     0.086603      0.416443  \n",
       "std       0.117345     0.500019     0.030253      0.492996  \n",
       "min       0.000000     0.000000     0.000000      0.000000  \n",
       "25%       0.000000     0.000000     0.073891      0.000000  \n",
       "50%       0.000000     0.000000     0.077661      0.000000  \n",
       "75%       0.000000     1.000000     0.087768      1.000000  \n",
       "max       1.000000     1.000000     0.810043      1.000000  "
      ]
     },
     "execution_count": 137,
     "metadata": {},
     "output_type": "execute_result"
    }
   ],
   "source": [
    "descr = train.describe()\n",
    "descr"
   ]
  },
  {
   "cell_type": "code",
   "execution_count": 138,
   "metadata": {},
   "outputs": [],
   "source": [
    "import seaborn as sns\n",
    "\n",
    "numeric_columns = [\n",
    "    'age',\n",
    "    'day',\n",
    "    'month',\n",
    "    'time_spent',\n",
    "    'banner_views',\n",
    "    'banner_views_old',\n",
    "    'days_elapsed_old',\n",
    "    # 'X1',\n",
    "    # 'X2',\n",
    "    # 'X3',\n",
    "    'X4',\n",
    "    # 'subscription'\n",
    "]\n",
    "# g = sns.PairGrid(train[numeric_columns])\n",
    "# g.map_upper(sns.histplot)\n",
    "# g.map_lower(sns.kdeplot, fill=True)\n",
    "# g.map_diag(sns.histplot, kde=True)"
   ]
  },
  {
   "cell_type": "code",
   "execution_count": 139,
   "metadata": {},
   "outputs": [],
   "source": [
    "# fig, axs = plt.subplots(2, 4, figsize=(20, 10))\n",
    "# for ax, column in zip(axs.flat, numeric_columns):\n",
    "#     ax.hist(train[column], label=column, bins=20)\n",
    "#     ax.set_title(column)"
   ]
  },
  {
   "cell_type": "markdown",
   "metadata": {},
   "source": [
    "Provided chart represents that features such as time_spent, banner_views, banner_views_old, days_elapsed_old and X4 have exponential distribution with long and thin tale."
   ]
  },
  {
   "cell_type": "code",
   "execution_count": 140,
   "metadata": {},
   "outputs": [
    {
     "data": {
      "text/plain": [
       "<AxesSubplot:>"
      ]
     },
     "execution_count": 140,
     "metadata": {},
     "output_type": "execute_result"
    },
    {
     "data": {
      "image/png": "[encoded data removed]",
      "text/plain": [
       "<Figure size 1000x800 with 2 Axes>"
      ]
     },
     "metadata": {},
     "output_type": "display_data"
    }
   ],
   "source": [
    "from matplotlib import pyplot as plt\n",
    "\n",
    "plt.figure(figsize=(10, 8))\n",
    "all_numeric_columns = [col for col in descr if col != 'Id']\n",
    "corr = train[all_numeric_columns].corr()\n",
    "sns.heatmap(corr)"
   ]
  },
  {
   "cell_type": "code",
   "execution_count": 141,
   "metadata": {},
   "outputs": [
    {
     "name": "stdout",
     "output_type": "stream",
     "text": [
      "0.5057941040468478\n"
     ]
    }
   ],
   "source": [
    "print(corr['banner_views_old']['days_elapsed_old'])"
   ]
  },
  {
   "cell_type": "code",
   "execution_count": 142,
   "metadata": {},
   "outputs": [
    {
     "name": "stdout",
     "output_type": "stream",
     "text": [
      "0.46569143735408963\n"
     ]
    }
   ],
   "source": [
    "print(corr['subscription']['time_spent'])"
   ]
  },
  {
   "cell_type": "markdown",
   "metadata": {},
   "source": [
    "As we can see, the subscription is highly correlated with time_spent. So, we expect this feature to be very important in our prediction."
   ]
  },
  {
   "cell_type": "code",
   "execution_count": 143,
   "metadata": {},
   "outputs": [
    {
     "data": {
      "text/plain": [
       "<AxesSubplot:xlabel='banner_views_old', ylabel='time_spent'>"
      ]
     },
     "execution_count": 143,
     "metadata": {},
     "output_type": "execute_result"
    },
    {
     "data": {
      "image/png": "[encoded data removed]",
      "text/plain": [
       "<Figure size 2000x1000 with 1 Axes>"
      ]
     },
     "metadata": {},
     "output_type": "display_data"
    }
   ],
   "source": [
    "fig = plt.figure(figsize=(20, 10))\n",
    "sns.scatterplot(\n",
    "    data=train,\n",
    "    x='banner_views_old',\n",
    "    y='time_spent',\n",
    "    hue='subscription',\n",
    ")"
   ]
  },
  {
   "cell_type": "markdown",
   "metadata": {},
   "source": [
    "According to the chart people with lower time_spent a less likely to buy subscription, that match the positive correlation between features."
   ]
  },
  {
   "cell_type": "markdown",
   "metadata": {},
   "source": [
    "Let's have a look on the categorical variables"
   ]
  },
  {
   "cell_type": "code",
   "execution_count": 144,
   "metadata": {},
   "outputs": [
    {
     "name": "stdout",
     "output_type": "stream",
     "text": [
      "job: ['freelance' 'industrial_worker' 'teacher' 'unemployed' 'manager'\n",
      " 'salesman' 'technology' 'retired' 'student' 'housekeeper' 'entrepreneur'\n",
      " 'na']\n",
      "marital: ['married' 'divorced' 'single']\n",
      "education: ['grad_school' 'university' 'high_school' 'na']\n",
      "device: ['smartphone' 'na' 'desktop']\n",
      "outcome_old: ['failure' 'success' 'na' 'other']\n"
     ]
    }
   ],
   "source": [
    "categorical_columns = ['job', 'marital', 'education', 'device', 'outcome_old']\n",
    "for column in categorical_columns:\n",
    "    print(f'{column}: {train[column].unique()}')"
   ]
  },
  {
   "cell_type": "markdown",
   "metadata": {},
   "source": [
    "Let's analyse distributions of provided categorical variables"
   ]
  },
  {
   "cell_type": "code",
   "execution_count": 145,
   "metadata": {},
   "outputs": [],
   "source": [
    "def encode_categorical_features(data):\n",
    "    for col in categorical_columns:\n",
    "        new_cols = pd.get_dummies(data[col])\n",
    "        if 'na' in new_cols.columns:\n",
    "            new_cols = new_cols.drop(columns=['na'])\n",
    "        else:\n",
    "            new_cols = new_cols[new_cols.columns[:-1]]\n",
    "        columns = [f'{col}_{column}' for column in new_cols.columns]\n",
    "        data[columns] = new_cols\n",
    "    data.drop(columns=categorical_columns, inplace=True)"
   ]
  },
  {
   "cell_type": "code",
   "execution_count": 146,
   "metadata": {},
   "outputs": [
    {
     "name": "stderr",
     "output_type": "stream",
     "text": [
      "/var/folders/g5/mjyfvtgx71q7y1zwphg8_xxc0000gn/T/ipykernel_62491/2035951598.py:1: SettingWithCopyWarning: \n",
      "A value is trying to be set on a copy of a slice from a DataFrame.\n",
      "Try using .loc[row_indexer,col_indexer] = value instead\n",
      "\n",
      "See the caveats in the documentation: https://pandas.pydata.org/pandas-docs/stable/user_guide/indexing.html#returning-a-view-versus-a-copy\n",
      "  train[train['days_elapsed_old'] == -1]['days_elapsed_old'] = 365\n"
     ]
    }
   ],
   "source": [
    "train[train['days_elapsed_old'] == -1]['days_elapsed_old'] = 365"
   ]
  },
  {
   "cell_type": "markdown",
   "metadata": {},
   "source": [
    "## Model 1 : Random forest"
   ]
  },
  {
   "cell_type": "code",
   "execution_count": 147,
   "metadata": {},
   "outputs": [],
   "source": [
    "from sklearn.ensemble import RandomForestClassifier\n",
    "from sklearn.model_selection import GridSearchCV\n",
    "from sklearn.metrics import accuracy_score\n",
    "from sklearn.model_selection import train_test_split\n",
    "\n",
    "# Preprocess data\n",
    "encode_categorical_features(train)\n",
    "\n",
    "# Separate features from labels\n",
    "X_train = train.drop(columns=['subscription'])\n",
    "y_train = train['subscription']\n",
    "\n",
    "# Split the data into training and validation set\n",
    "X_train, X_test, y_train, y_test = train_test_split(X_train, y_train, test_size=0.2, random_state=42)"
   ]
  },
  {
   "cell_type": "code",
   "execution_count": 148,
   "metadata": {},
   "outputs": [
    {
     "name": "stdout",
     "output_type": "stream",
     "text": [
      "Best parameters:  {'max_depth': None, 'min_samples_leaf': 2, 'min_samples_split': 2, 'n_estimators': 100}\n"
     ]
    },
    {
     "data": {
      "text/plain": [
       "RandomForestClassifier(min_samples_leaf=2)"
      ]
     },
     "execution_count": 148,
     "metadata": {},
     "output_type": "execute_result"
    }
   ],
   "source": [
    "# Initialize the random forest classifier\n",
    "rf = RandomForestClassifier(random_state=42)\n",
    "\n",
    "# Define a grid for the hyperparameter search\n",
    "param_grid = {\n",
    "    'n_estimators': [100, 200, 500],\n",
    "    'max_depth': [None, 10, 20, 30],\n",
    "    'min_samples_split': [2, 5, 10],\n",
    "    'min_samples_leaf': [1, 2, 4]\n",
    "}\n",
    "\n",
    "# Perform a grid search\n",
    "grid_search = GridSearchCV(rf, param_grid, cv=3, scoring='accuracy')\n",
    "\n",
    "# Fit the model to the training data\n",
    "grid_search.fit(X_train, y_train)\n",
    "\n",
    "# Get the best parameters\n",
    "best_params = grid_search.best_params_\n",
    "print(\"Best parameters: \", best_params)\n",
    "\n",
    "# Retrieve the best model\n",
    "best_rf = grid_search.best_estimator_\n",
    "\n",
    "# Train and predict using the model with the best parameters\n",
    "modelrf = RandomForestClassifier(**best_params)\n",
    "modelrf.fit(X_train, y_train)"
   ]
  },
  {
   "cell_type": "code",
   "execution_count": 149,
   "metadata": {},
   "outputs": [
    {
     "name": "stdout",
     "output_type": "stream",
     "text": [
      "accuracy_train=0.973467\n",
      "accuracy_test=0.850921\n"
     ]
    }
   ],
   "source": [
    "predict_test = modelrf.predict(X_test)\n",
    "predict_train = modelrf.predict(X_train)\n",
    "\n",
    "accuracy_train = round(accuracy_score(y_train, predict_train), 6)\n",
    "accuracy_test = round(accuracy_score(y_test, predict_test), 6)\n",
    "print(f'{accuracy_train=}\\n{accuracy_test=}')"
   ]
  },
  {
   "cell_type": "markdown",
   "metadata": {},
   "source": [
    "## Model 2 : XGboost"
   ]
  },
  {
   "cell_type": "code",
   "execution_count": 155,
   "metadata": {},
   "outputs": [],
   "source": [
    "train = pd.read_csv('MLUnige2023_subscriptions_train.csv')\n",
    "test = pd.read_csv('MLUnige2023_subscriptions_test.csv')\n",
    "\n",
    "# Preprocess data\n",
    "encode_categorical_features(train)\n",
    "\n",
    "# Separate features from labels\n",
    "X_train = train.drop(columns=['subscription'])\n",
    "y_train = train['subscription']\n",
    "\n",
    "# Split the data into training and validation set\n",
    "X_train, X_test, y_train, y_test = train_test_split(X_train, y_train, test_size=0.2, random_state=42)"
   ]
  },
  {
   "cell_type": "code",
   "execution_count": 157,
   "metadata": {},
   "outputs": [
    {
     "name": "stdout",
     "output_type": "stream",
     "text": [
      "XGBClassifier(base_score=None, booster=None, callbacks=None,\n",
      "              colsample_bylevel=None, colsample_bynode=None,\n",
      "              colsample_bytree=None, early_stopping_rounds=None,\n",
      "              enable_categorical=False, eval_metric=None, feature_types=None,\n",
      "              gamma=None, gpu_id=None, grow_policy=None, importance_type=None,\n",
      "              interaction_constraints=None, learning_rate=0.1, max_bin=None,\n",
      "              max_cat_threshold=None, max_cat_to_onehot=None,\n",
      "              max_delta_step=None, max_depth=5, max_leaves=None,\n",
      "              min_child_weight=None, missing=nan, monotone_constraints=None,\n",
      "              n_estimators=200, n_jobs=None, num_parallel_tree=None,\n",
      "              predictor=None, random_state=None, ...)\n"
     ]
    }
   ],
   "source": [
    "from xgboost import XGBClassifier\n",
    "import xgboost as xgb\n",
    "\n",
    "# Create a XGBClassifier model\n",
    "model = XGBClassifier(\n",
    "    objective='binary:logistic',  # this is for binary classification\n",
    ")\n",
    "\n",
    "# Define a grid for the hyperparameter search\n",
    "param_grid = {\n",
    "    'learning_rate': [0.01, 0.1, 0.3],\n",
    "    'max_depth': [3, 5, 7, 10],\n",
    "    'n_estimators': [50, 100, 200, 500]\n",
    "}\n",
    "\n",
    "# Perform a grid search\n",
    "grid_search = GridSearchCV(model, param_grid, cv=5, scoring='accuracy')\n",
    "\n",
    "# Fit the grid_search to the training data\n",
    "grid_search.fit(X_train, y_train)"
   ]
  },
  {
   "cell_type": "code",
   "execution_count": 158,
   "metadata": {},
   "outputs": [
    {
     "name": "stdout",
     "output_type": "stream",
     "text": [
      "accuracy_train=0.932\n",
      "accuracy_test=0.861\n"
     ]
    }
   ],
   "source": [
    "from sklearn.metrics import accuracy_score\n",
    "\n",
    "predict_test = best_xgb.predict(X_test)\n",
    "predict_train = best_xgb.predict(X_train)\n",
    "\n",
    "accuracy_train = round(accuracy_score(y_train, predict_train), 3)\n",
    "accuracy_test = round(accuracy_score(y_test, predict_test), 3)\n",
    "print(f'{accuracy_train=}\\n{accuracy_test=}')"
   ]
  },
  {
   "cell_type": "markdown",
   "metadata": {},
   "source": [
    "## Model 3 : CatBoost"
   ]
  },
  {
   "cell_type": "code",
   "execution_count": 30,
   "metadata": {},
   "outputs": [
    {
     "ename": "ModuleNotFoundError",
     "evalue": "No module named 'catboost'",
     "output_type": "error",
     "traceback": [
      "\u001b[0;31m---------------------------------------------------------------------------\u001b[0m",
      "\u001b[0;31mModuleNotFoundError\u001b[0m                       Traceback (most recent call last)",
      "\u001b[0;32m/var/folders/g5/mjyfvtgx71q7y1zwphg8_xxc0000gn/T/ipykernel_62491/3117984461.py\u001b[0m in \u001b[0;36m<module>\u001b[0;34m\u001b[0m\n\u001b[0;32m----> 1\u001b[0;31m \u001b[0;32mfrom\u001b[0m \u001b[0mcatboost\u001b[0m \u001b[0;32mimport\u001b[0m \u001b[0mCatBoostClassifier\u001b[0m\u001b[0;34m\u001b[0m\u001b[0;34m\u001b[0m\u001b[0m\n\u001b[0m\u001b[1;32m      2\u001b[0m \u001b[0;32mfrom\u001b[0m \u001b[0msklearn\u001b[0m\u001b[0;34m.\u001b[0m\u001b[0mmodel_selection\u001b[0m \u001b[0;32mimport\u001b[0m \u001b[0mtrain_test_split\u001b[0m\u001b[0;34m\u001b[0m\u001b[0;34m\u001b[0m\u001b[0m\n\u001b[1;32m      3\u001b[0m \u001b[0mmodel\u001b[0m \u001b[0;34m=\u001b[0m \u001b[0mCatBoostClassifier\u001b[0m\u001b[0;34m(\u001b[0m\u001b[0;34m)\u001b[0m\u001b[0;34m\u001b[0m\u001b[0;34m\u001b[0m\u001b[0m\n\u001b[1;32m      4\u001b[0m \u001b[0;34m\u001b[0m\u001b[0m\n\u001b[1;32m      5\u001b[0m \u001b[0mtest_size\u001b[0m \u001b[0;34m=\u001b[0m \u001b[0;36m0.3\u001b[0m\u001b[0;34m\u001b[0m\u001b[0;34m\u001b[0m\u001b[0m\n",
      "\u001b[0;31mModuleNotFoundError\u001b[0m: No module named 'catboost'"
     ]
    }
   ],
   "source": [
    "from catboost import CatBoostClassifier\n",
    "from sklearn.model_selection import train_test_split\n",
    "model = CatBoostClassifier()\n",
    "\n",
    "test_size = 0.3\n",
    "X = train.drop(columns=['Id', 'subscription'])\n",
    "y = train['subscription']\n",
    "\n",
    "X_train, X_test, y_train, y_test = train_test_split(\n",
    "    X,\n",
    "    y,\n",
    "    test_size=test_size\n",
    ")\n",
    "\n",
    "model.fit(X_train, y_train)"
   ]
  },
  {
   "cell_type": "code",
   "execution_count": 235,
   "metadata": {},
   "outputs": [],
   "source": [
    "X_train.columns"
   ]
  },
  {
   "cell_type": "code",
   "execution_count": 236,
   "metadata": {},
   "outputs": [],
   "source": [
    "model.feature_importances_"
   ]
  },
  {
   "cell_type": "code",
   "execution_count": 237,
   "metadata": {},
   "outputs": [],
   "source": [
    "predict_test = model.predict(X_test)\n",
    "predict_train = model.predict(X_train)"
   ]
  },
  {
   "cell_type": "code",
   "execution_count": 238,
   "metadata": {},
   "outputs": [],
   "source": [
    "from sklearn.metrics import accuracy_score\n",
    "\n",
    "accuracy_train = round(accuracy_score(y_train, predict_train), 3)\n",
    "accuracy_test = round(accuracy_score(y_test, predict_test), 3)\n",
    "print(f'{accuracy_train=}\\n{accuracy_test=}')"
   ]
  },
  {
   "cell_type": "markdown",
   "metadata": {},
   "source": [
    "## Comparing the 3 models"
   ]
  },
  {
   "cell_type": "markdown",
   "metadata": {},
   "source": [
    "## Generate a Kaggle submission"
   ]
  },
  {
   "cell_type": "code",
   "execution_count": 239,
   "metadata": {},
   "outputs": [],
   "source": [
    "encode_categorical_features(test)"
   ]
  },
  {
   "cell_type": "code",
   "execution_count": 240,
   "metadata": {},
   "outputs": [],
   "source": [
    "submission = test[['Id']]\n",
    "submission['subscription'] = model.predict(test.drop(columns=['Id']))\n",
    "submission.head()"
   ]
  },
  {
   "cell_type": "code",
   "execution_count": 241,
   "metadata": {},
   "outputs": [],
   "source": [
    "len(submission)"
   ]
  },
  {
   "cell_type": "code",
   "execution_count": null,
   "metadata": {},
   "outputs": [],
   "source": [
    "submission.to_csv('subission.csv', index=False)"
   ]
  }
 ],
 "metadata": {
  "kernelspec": {
   "display_name": "Python 3 (ipykernel)",
   "language": "python",
   "name": "python3"
  },
  "language_info": {
   "codemirror_mode": {
    "name": "ipython",
    "version": 3
   },
   "file_extension": ".py",
   "mimetype": "text/x-python",
   "name": "python",
   "nbconvert_exporter": "python",
   "pygments_lexer": "ipython3",
   "version": "3.9.13"
  }
 },
 "nbformat": 4,
 "nbformat_minor": 1
}
